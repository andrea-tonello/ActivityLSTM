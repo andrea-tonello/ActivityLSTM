{
 "cells": [
  {
   "cell_type": "code",
   "execution_count": null,
   "id": "201beb73",
   "metadata": {},
   "outputs": [],
   "source": [
    "import pandas as pd\n",
    "import numpy as np\n",
    "from sklearn.preprocessing import LabelEncoder, StandardScaler\n",
    "from sklearn.model_selection import train_test_split\n",
    "import torch\n",
    "from torch.utils.data import DataLoader, TensorDataset\n",
    "from LSTM import *"
   ]
  },
  {
   "cell_type": "code",
   "execution_count": 6,
   "id": "dcbf09a2",
   "metadata": {},
   "outputs": [],
   "source": [
    "df = pd.read_csv('data/weatherHistory.csv')\n",
    "\n",
    "# Encode target labels\n",
    "encoder = LabelEncoder()\n",
    "df['Summary_Encoded'] = encoder.fit_transform(df['Summary'])\n",
    "\n",
    "# Select features and target\n",
    "features = ['Temperature (C)', 'Apparent Temperature (C)', 'Humidity', \n",
    "            'Wind Speed (km/h)', 'Wind Bearing (degrees)', 'Visibility (km)', \n",
    "            'Pressure (millibars)']\n",
    "target = 'Summary_Encoded'\n",
    "\n",
    "# Normalize features\n",
    "scaler = StandardScaler()\n",
    "df[features] = scaler.fit_transform(df[features])"
   ]
  },
  {
   "cell_type": "code",
   "execution_count": null,
   "id": "5b2a47ff",
   "metadata": {},
   "outputs": [],
   "source": [
    "# Create sequences (using 6-hour windows)\n",
    "sequence_length = 6\n",
    "X, y = [], []\n",
    "for i in range(len(df) - sequence_length):\n",
    "    X.append(df[features].values[i:i+sequence_length])\n",
    "    y.append(df[target].iloc[i+sequence_length])\n",
    "\n",
    "X = np.array(X)\n",
    "y = np.array(y)"
   ]
  },
  {
   "cell_type": "code",
   "execution_count": null,
   "id": "9de83b63",
   "metadata": {},
   "outputs": [],
   "source": [
    "\n",
    "\n",
    "\n",
    "\n",
    "\n",
    "\n",
    "\n",
    "\n",
    "# Train-test split (time-series friendly)\n",
    "split = int(0.8 * len(X))\n",
    "X_train, X_test = X[:split], X[split:]\n",
    "y_train, y_test = y[:split], y[split:]"
   ]
  },
  {
   "cell_type": "code",
   "execution_count": null,
   "id": "d54430cf",
   "metadata": {},
   "outputs": [],
   "source": [
    "# Initialize model\n",
    "device = torch.device('cuda' if torch.cuda.is_available() else 'cpu')\n",
    "model = WeatherLSTM(\n",
    "    input_size=len(features),\n",
    "    hidden_size=64,\n",
    "    num_layers=2,\n",
    "    num_classes=len(encoder.classes_)\n",
    ").to(device)"
   ]
  },
  {
   "cell_type": "code",
   "execution_count": null,
   "id": "f3bb9252",
   "metadata": {},
   "outputs": [],
   "source": [
    "train_data = TensorDataset(\n",
    "    torch.FloatTensor(X_train), \n",
    "    torch.LongTensor(y_train)\n",
    ")\n",
    "test_data = TensorDataset(\n",
    "    torch.FloatTensor(X_test), \n",
    "    torch.LongTensor(y_test)\n",
    ")\n",
    "\n",
    "# Data loaders\n",
    "train_loader = DataLoader(train_data, batch_size=32, shuffle=True)\n",
    "test_loader = DataLoader(test_data, batch_size=32)\n",
    "\n",
    "# Loss and optimizer\n",
    "criterion = nn.CrossEntropyLoss()\n",
    "optimizer = torch.optim.Adam(model.parameters(), lr=0.001)"
   ]
  },
  {
   "cell_type": "code",
   "execution_count": null,
   "id": "8194d8cb",
   "metadata": {},
   "outputs": [],
   "source": [
    "epochs = 50\n",
    "for epoch in range(epochs):\n",
    "    model.train()\n",
    "    for batch_x, batch_y in train_loader:\n",
    "        batch_x, batch_y = batch_x.to(device), batch_y.to(device)\n",
    "        \n",
    "        outputs = model(batch_x)\n",
    "        loss = criterion(outputs, batch_y)\n",
    "\n",
    "        optimizer.zero_grad()\n",
    "        loss.backward()\n",
    "        optimizer.step()\n",
    "    \n",
    "    model.eval()\n",
    "    with torch.no_grad():\n",
    "        correct = 0\n",
    "        total = 0\n",
    "        for batch_x, batch_y in test_loader:\n",
    "            batch_x, batch_y = batch_x.to(device), batch_y.to(device)\n",
    "            outputs = model(batch_x)\n",
    "            _, predicted = torch.max(outputs.data, 1)\n",
    "            total += batch_y.size(0)\n",
    "            correct += (predicted == batch_y).sum().item()\n",
    "        \n",
    "        acc = 100 * correct / total\n",
    "        print(f'Epoch {epoch+1}/{epochs} | Test Acc: {acc:.2f}%')"
   ]
  },
  {
   "cell_type": "code",
   "execution_count": null,
   "id": "ec575d5a",
   "metadata": {},
   "outputs": [],
   "source": [
    "# Get a test sample\n",
    "test_sample, _ = next(iter(test_loader))\n",
    "test_sample = test_sample[0].unsqueeze(0).to(device)\n",
    "\n",
    "# Predict\n",
    "model.eval()\n",
    "with torch.no_grad():\n",
    "    output = model(test_sample)\n",
    "    prediction = torch.argmax(output).item()\n",
    "    print(\"Predicted:\", encoder.inverse_transform([prediction])[0])"
   ]
  }
 ],
 "metadata": {
  "kernelspec": {
   "display_name": "myenv",
   "language": "python",
   "name": "python3"
  },
  "language_info": {
   "codemirror_mode": {
    "name": "ipython",
    "version": 3
   },
   "file_extension": ".py",
   "mimetype": "text/x-python",
   "name": "python",
   "nbconvert_exporter": "python",
   "pygments_lexer": "ipython3",
   "version": "3.11.12"
  }
 },
 "nbformat": 4,
 "nbformat_minor": 5
}
